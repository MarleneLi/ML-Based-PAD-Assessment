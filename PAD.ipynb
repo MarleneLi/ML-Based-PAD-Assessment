{
 "cells": [
  {
   "cell_type": "markdown",
   "metadata": {},
   "source": [
    "# Import Package"
   ]
  },
  {
   "cell_type": "code",
   "execution_count": 1,
   "metadata": {},
   "outputs": [],
   "source": [
    "import numpy as np\n",
    "import pandas as pd\n",
    "import matplotlib.pyplot as plt\n",
    "from sklearn import svm\n",
    "from sklearn.preprocessing import StandardScaler\n",
    "from sklearn.linear_model import LogisticRegression\n",
    "from sklearn.ensemble import RandomForestClassifier\n",
    "from sklearn.metrics import classification_report, confusion_matrix\n",
    "from sklearn.model_selection import train_test_split\n",
    "from sklearn.metrics import f1_score\n",
    "import os\n",
    "from datetime import datetime\n",
    "import seaborn as sns"
   ]
  },
  {
   "cell_type": "markdown",
   "metadata": {},
   "source": [
    "# Import Data Frame"
   ]
  },
  {
   "cell_type": "code",
   "execution_count": 2,
   "metadata": {
    "code_folding": []
   },
   "outputs": [
    {
     "name": "stderr",
     "output_type": "stream",
     "text": [
      "Copying gs://fc-secure-0d0aa1f4-dcaf-49ec-b0d7-9a52c2f50113/data/all_var.csv...\n",
      "/ [1 files][  6.6 MiB/  6.6 MiB]                                                \n",
      "Operation completed over 1 objects/6.6 MiB.                                      \n"
     ]
    },
    {
     "name": "stdout",
     "output_type": "stream",
     "text": [
      "[INFO] all_var.csv is successfully downloaded into your working space\n"
     ]
    },
    {
     "data": {
      "text/html": [
       "<div>\n",
       "<style scoped>\n",
       "    .dataframe tbody tr th:only-of-type {\n",
       "        vertical-align: middle;\n",
       "    }\n",
       "\n",
       "    .dataframe tbody tr th {\n",
       "        vertical-align: top;\n",
       "    }\n",
       "\n",
       "    .dataframe thead th {\n",
       "        text-align: right;\n",
       "    }\n",
       "</style>\n",
       "<table border=\"1\" class=\"dataframe\">\n",
       "  <thead>\n",
       "    <tr style=\"text-align: right;\">\n",
       "      <th></th>\n",
       "      <th>person_id</th>\n",
       "      <th>pain</th>\n",
       "      <th>smk</th>\n",
       "      <th>alc</th>\n",
       "      <th>exr</th>\n",
       "      <th>bmi</th>\n",
       "      <th>age</th>\n",
       "      <th>sex</th>\n",
       "      <th>BC</th>\n",
       "      <th>BG</th>\n",
       "      <th>BP</th>\n",
       "      <th>hom</th>\n",
       "      <th>fib</th>\n",
       "      <th>PAD</th>\n",
       "    </tr>\n",
       "  </thead>\n",
       "  <tbody>\n",
       "    <tr>\n",
       "      <th>0</th>\n",
       "      <td>1557088</td>\n",
       "      <td>1</td>\n",
       "      <td>0</td>\n",
       "      <td>1</td>\n",
       "      <td>1</td>\n",
       "      <td>24.799999</td>\n",
       "      <td>60.605479</td>\n",
       "      <td>1</td>\n",
       "      <td>322.0</td>\n",
       "      <td>257</td>\n",
       "      <td>159.666667</td>\n",
       "      <td>18.3</td>\n",
       "      <td>664.0</td>\n",
       "      <td>1</td>\n",
       "    </tr>\n",
       "    <tr>\n",
       "      <th>1</th>\n",
       "      <td>2175435</td>\n",
       "      <td>1</td>\n",
       "      <td>1</td>\n",
       "      <td>1</td>\n",
       "      <td>1</td>\n",
       "      <td>26.500000</td>\n",
       "      <td>63.772603</td>\n",
       "      <td>1</td>\n",
       "      <td>198.0</td>\n",
       "      <td>101</td>\n",
       "      <td>130.000000</td>\n",
       "      <td>0.0</td>\n",
       "      <td>0.0</td>\n",
       "      <td>1</td>\n",
       "    </tr>\n",
       "    <tr>\n",
       "      <th>2</th>\n",
       "      <td>1014037</td>\n",
       "      <td>1</td>\n",
       "      <td>0</td>\n",
       "      <td>1</td>\n",
       "      <td>1</td>\n",
       "      <td>40.599998</td>\n",
       "      <td>82.383562</td>\n",
       "      <td>1</td>\n",
       "      <td>211.0</td>\n",
       "      <td>236</td>\n",
       "      <td>123.000000</td>\n",
       "      <td>0.0</td>\n",
       "      <td>0.0</td>\n",
       "      <td>1</td>\n",
       "    </tr>\n",
       "    <tr>\n",
       "      <th>3</th>\n",
       "      <td>2411364</td>\n",
       "      <td>1</td>\n",
       "      <td>0</td>\n",
       "      <td>1</td>\n",
       "      <td>1</td>\n",
       "      <td>24.799999</td>\n",
       "      <td>75.657534</td>\n",
       "      <td>0</td>\n",
       "      <td>308.0</td>\n",
       "      <td>98</td>\n",
       "      <td>116.666667</td>\n",
       "      <td>7.5</td>\n",
       "      <td>0.0</td>\n",
       "      <td>1</td>\n",
       "    </tr>\n",
       "    <tr>\n",
       "      <th>4</th>\n",
       "      <td>1185518</td>\n",
       "      <td>1</td>\n",
       "      <td>0</td>\n",
       "      <td>1</td>\n",
       "      <td>1</td>\n",
       "      <td>19.900000</td>\n",
       "      <td>74.654795</td>\n",
       "      <td>0</td>\n",
       "      <td>207.0</td>\n",
       "      <td>110</td>\n",
       "      <td>120.333333</td>\n",
       "      <td>0.0</td>\n",
       "      <td>0.0</td>\n",
       "      <td>1</td>\n",
       "    </tr>\n",
       "  </tbody>\n",
       "</table>\n",
       "</div>"
      ],
      "text/plain": [
       "   person_id  pain  smk  alc  exr        bmi        age  sex     BC   BG  \\\n",
       "0    1557088     1    0    1    1  24.799999  60.605479    1  322.0  257   \n",
       "1    2175435     1    1    1    1  26.500000  63.772603    1  198.0  101   \n",
       "2    1014037     1    0    1    1  40.599998  82.383562    1  211.0  236   \n",
       "3    2411364     1    0    1    1  24.799999  75.657534    0  308.0   98   \n",
       "4    1185518     1    0    1    1  19.900000  74.654795    0  207.0  110   \n",
       "\n",
       "           BP   hom    fib  PAD  \n",
       "0  159.666667  18.3  664.0    1  \n",
       "1  130.000000   0.0    0.0    1  \n",
       "2  123.000000   0.0    0.0    1  \n",
       "3  116.666667   7.5    0.0    1  \n",
       "4  120.333333   0.0    0.0    1  "
      ]
     },
     "execution_count": 2,
     "metadata": {},
     "output_type": "execute_result"
    }
   ],
   "source": [
    "# This snippet assumes you run setup first\n",
    "\n",
    "# This code copies file in your Google Bucket and loads it into a dataframe\n",
    "\n",
    "# Replace 'test.csv' with THE NAME of the file you're going to download from the bucket (don't delete the quotation marks)\n",
    "name_of_file_in_bucket = 'all_var.csv'\n",
    "\n",
    "########################################################################\n",
    "##\n",
    "################# DON'T CHANGE FROM HERE ###############################\n",
    "##\n",
    "########################################################################\n",
    "\n",
    "# get the bucket name\n",
    "my_bucket = os.getenv('WORKSPACE_BUCKET')\n",
    "\n",
    "# copy csv file from the bucket to the current working space\n",
    "os.system(f\"gsutil cp '{my_bucket}/data/{name_of_file_in_bucket}' .\")\n",
    "\n",
    "print(f'[INFO] {name_of_file_in_bucket} is successfully downloaded into your working space')\n",
    "# save dataframe in a csv file in the same workspace as the notebook\n",
    "my_dataframe = pd.read_csv(name_of_file_in_bucket)\n",
    "my_dataframe.head()\n"
   ]
  },
  {
   "cell_type": "markdown",
   "metadata": {},
   "source": [
    "# Prepare Training Sets, Validation Sets and Test Sets"
   ]
  },
  {
   "cell_type": "code",
   "execution_count": 6,
   "metadata": {},
   "outputs": [],
   "source": [
    "my_dataframe = my_dataframe[my_dataframe['BC'] != 0]\n",
    "my_dataframe =  my_dataframe[my_dataframe['BC'] < 1000]\n",
    "my_dataframe = my_dataframe[my_dataframe['BG'] != 0]\n",
    "my_dataframe =  my_dataframe[my_dataframe['BG'] < 1000]\n",
    "my_dataframe = my_dataframe[my_dataframe['BP'] != 0]\n",
    "my_dataframe =  my_dataframe[my_dataframe['BP'] < 1000]\n",
    "my_dataframe = my_dataframe[my_dataframe['bmi'] != 0]\n",
    "my_dataframe = my_dataframe[my_dataframe['bmi'] < 1000]\n",
    "my_dataframe = my_dataframe[my_dataframe['age'] != 0]\n",
    "my_dataframe = my_dataframe[my_dataframe['age'] < 1000]\n",
    "my_dataframe = my_dataframe[my_dataframe['fib'] != 0]\n",
    "my_dataframe.head()\n",
    "case = my_dataframe[my_dataframe['PAD'] == 1]\n",
    "control = my_dataframe[my_dataframe['PAD'] == 0]"
   ]
  },
  {
   "cell_type": "code",
   "execution_count": 7,
   "metadata": {},
   "outputs": [
    {
     "data": {
      "text/html": [
       "<div>\n",
       "<style scoped>\n",
       "    .dataframe tbody tr th:only-of-type {\n",
       "        vertical-align: middle;\n",
       "    }\n",
       "\n",
       "    .dataframe tbody tr th {\n",
       "        vertical-align: top;\n",
       "    }\n",
       "\n",
       "    .dataframe thead th {\n",
       "        text-align: right;\n",
       "    }\n",
       "</style>\n",
       "<table border=\"1\" class=\"dataframe\">\n",
       "  <thead>\n",
       "    <tr style=\"text-align: right;\">\n",
       "      <th></th>\n",
       "      <th>pain</th>\n",
       "      <th>smk</th>\n",
       "      <th>sex</th>\n",
       "      <th>bmi</th>\n",
       "      <th>age</th>\n",
       "      <th>BG</th>\n",
       "      <th>BP</th>\n",
       "      <th>fib</th>\n",
       "    </tr>\n",
       "  </thead>\n",
       "  <tbody>\n",
       "    <tr>\n",
       "      <th>0</th>\n",
       "      <td>1</td>\n",
       "      <td>0</td>\n",
       "      <td>1</td>\n",
       "      <td>-0.800397</td>\n",
       "      <td>-0.351452</td>\n",
       "      <td>0.076430</td>\n",
       "      <td>0.670859</td>\n",
       "      <td>-0.010923</td>\n",
       "    </tr>\n",
       "    <tr>\n",
       "      <th>1</th>\n",
       "      <td>1</td>\n",
       "      <td>0</td>\n",
       "      <td>1</td>\n",
       "      <td>-0.483072</td>\n",
       "      <td>-0.514061</td>\n",
       "      <td>-0.393071</td>\n",
       "      <td>-0.189026</td>\n",
       "      <td>-0.010455</td>\n",
       "    </tr>\n",
       "    <tr>\n",
       "      <th>2</th>\n",
       "      <td>1</td>\n",
       "      <td>1</td>\n",
       "      <td>1</td>\n",
       "      <td>0.402793</td>\n",
       "      <td>-0.280671</td>\n",
       "      <td>-0.432747</td>\n",
       "      <td>0.015373</td>\n",
       "      <td>-0.011297</td>\n",
       "    </tr>\n",
       "    <tr>\n",
       "      <th>3</th>\n",
       "      <td>1</td>\n",
       "      <td>1</td>\n",
       "      <td>1</td>\n",
       "      <td>-0.165747</td>\n",
       "      <td>0.097054</td>\n",
       "      <td>0.301261</td>\n",
       "      <td>-0.083303</td>\n",
       "      <td>-0.014105</td>\n",
       "    </tr>\n",
       "    <tr>\n",
       "      <th>4</th>\n",
       "      <td>1</td>\n",
       "      <td>1</td>\n",
       "      <td>1</td>\n",
       "      <td>-1.157387</td>\n",
       "      <td>1.497391</td>\n",
       "      <td>-0.340170</td>\n",
       "      <td>0.212723</td>\n",
       "      <td>-0.013177</td>\n",
       "    </tr>\n",
       "  </tbody>\n",
       "</table>\n",
       "</div>"
      ],
      "text/plain": [
       "   pain  smk  sex       bmi       age        BG        BP       fib\n",
       "0     1    0    1 -0.800397 -0.351452  0.076430  0.670859 -0.010923\n",
       "1     1    0    1 -0.483072 -0.514061 -0.393071 -0.189026 -0.010455\n",
       "2     1    1    1  0.402793 -0.280671 -0.432747  0.015373 -0.011297\n",
       "3     1    1    1 -0.165747  0.097054  0.301261 -0.083303 -0.014105\n",
       "4     1    1    1 -1.157387  1.497391 -0.340170  0.212723 -0.013177"
      ]
     },
     "execution_count": 7,
     "metadata": {},
     "output_type": "execute_result"
    }
   ],
   "source": [
    "features_ctn = ['bmi','age', 'BG', 'BP', 'fib']\n",
    "features_bin = ['pain', 'smk', 'sex']\n",
    "\n",
    "x_ctn = my_dataframe.loc[:, features_ctn].values\n",
    "x_bin = my_dataframe.loc[:, features_bin].values\n",
    "\n",
    "\n",
    "y_df = my_dataframe.loc[:, ['PAD']].values\n",
    "\n",
    "y = y_df.ravel()\n",
    "\n",
    "x_ctn = StandardScaler().fit_transform(x_ctn)\n",
    "\n",
    "# Check the standardized data\n",
    "x_std = pd.concat([pd.DataFrame(x_bin), pd.DataFrame(x_ctn)], axis=1)\n",
    "x_std.columns = ['pain', 'smk', 'sex', 'bmi', 'age', 'BG', 'BP', 'fib']\n",
    "x_std.head()\n",
    "# print(len(x_std))"
   ]
  },
  {
   "cell_type": "code",
   "execution_count": 19,
   "metadata": {},
   "outputs": [
    {
     "name": "stdout",
     "output_type": "stream",
     "text": [
      "[[ 1.          1.          1.         ...  1.48493288  0.61447309\n",
      "  -0.00931634]\n",
      " [ 0.          1.          1.         ... -0.61128992 -0.47095565\n",
      "  -0.01307517]\n",
      " [ 1.          0.          0.         ... -0.39307114 -0.32999088\n",
      "  -0.01073565]\n",
      " ...\n",
      " [ 0.          1.          0.         ... -0.59806454 -0.10444724\n",
      "  -0.0134183 ]\n",
      " [ 0.          0.          0.         ... -1.07417823 -0.28065321\n",
      "  -0.01408896]\n",
      " [ 0.          0.          0.         ...  1.2733268   1.0726086\n",
      "  -0.01136732]]\n",
      "(4256, 8)\n"
     ]
    }
   ],
   "source": [
    "# Split the x data into 70% training and 30% temporary set\n",
    "train_x, temp_x = train_test_split(x_std, test_size=0.3, random_state=42)\n",
    "# Split the temporary set into 10% validation and 20% test set\n",
    "# Since the temporary set is 30% of the original, we split it into 1/3 (validation) and 2/3 (test) \n",
    "validate_x, test_x = train_test_split(temp_x, test_size=2/3, random_state=42)\n",
    "\n",
    "y = np.array(y).astype(int)\n",
    "\n",
    "# Split the y data into 70% training and 30% temporary set\n",
    "y_train, y_temp = train_test_split(y, test_size=0.3, random_state=42)\n",
    "# Split the temporary set into 10% validation and 20% test set\n",
    "# Since the temporary set is 30% of the original, we split it into 1/3 (validation) and 2/3 (test) \n",
    "y_valid, y_test = train_test_split(y_temp, test_size=2/3, random_state=42)\n",
    "\n",
    "# train = np.concatenate((train_df_P, train_df_N), axis=0)\n",
    "# valid = np.concatenate((validate_df_P, validate_df_N), axis=0)\n",
    "# test = np.concatenate((test_df_P, test_df_N), axis=0)\n",
    "\n",
    "# print(f\"Length of Training set: {len(train)}\")\n",
    "# print(f\"Length of Validation set: {len(valid)}\")\n",
    "# print(f\"Length of Test set: {len(test)}\")\n",
    "\n",
    "X_train = (train_x.iloc[:, 0:]).values\n",
    "# X_train = np.concatenate((X_train[:, : -3], X_train[:, -1:]), axis=1)\n",
    "X_valid = (validate_x.iloc[:, 0:]).values\n",
    "# X_valid = np.concatenate((X_valid[:, : -3], X_valid[:, -1:]), axis=1)\n",
    "X_test = (test_x.iloc[:, 0:]).values\n",
    "# X_test = np.concatenate((X_test[:, : -3], X_test[:, -1:]), axis=1)\n",
    "print(X_train)\n",
    "print(X_train.shape)\n",
    "# print(X_valid[:5])\n",
    "# print(y_valid)"
   ]
  },
  {
   "cell_type": "markdown",
   "metadata": {},
   "source": [
    "# PCA and Data Visualization"
   ]
  },
  {
   "cell_type": "code",
   "execution_count": 80,
   "metadata": {},
   "outputs": [
    {
     "data": {
      "text/html": [
       "<div>\n",
       "<style scoped>\n",
       "    .dataframe tbody tr th:only-of-type {\n",
       "        vertical-align: middle;\n",
       "    }\n",
       "\n",
       "    .dataframe tbody tr th {\n",
       "        vertical-align: top;\n",
       "    }\n",
       "\n",
       "    .dataframe thead th {\n",
       "        text-align: right;\n",
       "    }\n",
       "</style>\n",
       "<table border=\"1\" class=\"dataframe\">\n",
       "  <thead>\n",
       "    <tr style=\"text-align: right;\">\n",
       "      <th></th>\n",
       "      <th>principal component 1</th>\n",
       "      <th>principal component 2</th>\n",
       "      <th>principal component 3</th>\n",
       "    </tr>\n",
       "  </thead>\n",
       "  <tbody>\n",
       "    <tr>\n",
       "      <th>0</th>\n",
       "      <td>0.057626</td>\n",
       "      <td>0.454059</td>\n",
       "      <td>-0.115725</td>\n",
       "    </tr>\n",
       "    <tr>\n",
       "      <th>1</th>\n",
       "      <td>-0.318572</td>\n",
       "      <td>-0.387915</td>\n",
       "      <td>0.025257</td>\n",
       "    </tr>\n",
       "    <tr>\n",
       "      <th>2</th>\n",
       "      <td>0.123619</td>\n",
       "      <td>-0.387768</td>\n",
       "      <td>0.014253</td>\n",
       "    </tr>\n",
       "    <tr>\n",
       "      <th>3</th>\n",
       "      <td>-0.075170</td>\n",
       "      <td>0.373981</td>\n",
       "      <td>-0.040781</td>\n",
       "    </tr>\n",
       "    <tr>\n",
       "      <th>4</th>\n",
       "      <td>-1.465120</td>\n",
       "      <td>1.315481</td>\n",
       "      <td>-0.199961</td>\n",
       "    </tr>\n",
       "  </tbody>\n",
       "</table>\n",
       "</div>"
      ],
      "text/plain": [
       "   principal component 1  principal component 2  principal component 3\n",
       "0               0.057626               0.454059              -0.115725\n",
       "1              -0.318572              -0.387915               0.025257\n",
       "2               0.123619              -0.387768               0.014253\n",
       "3              -0.075170               0.373981              -0.040781\n",
       "4              -1.465120               1.315481              -0.199961"
      ]
     },
     "execution_count": 80,
     "metadata": {},
     "output_type": "execute_result"
    }
   ],
   "source": [
    "from sklearn.decomposition import PCA\n",
    "\n",
    "pca = PCA(n_components=3)\n",
    "\n",
    "principalComponents = pca.fit_transform(x_std)\n",
    "\n",
    "principalDf = pd.DataFrame(data = principalComponents\n",
    "             , columns = ['principal component 1', 'principal component 2', 'principal component 3'])\n",
    "principalDf.head()"
   ]
  },
  {
   "cell_type": "code",
   "execution_count": 81,
   "metadata": {},
   "outputs": [
    {
     "data": {
      "text/html": [
       "<div>\n",
       "<style scoped>\n",
       "    .dataframe tbody tr th:only-of-type {\n",
       "        vertical-align: middle;\n",
       "    }\n",
       "\n",
       "    .dataframe tbody tr th {\n",
       "        vertical-align: top;\n",
       "    }\n",
       "\n",
       "    .dataframe thead th {\n",
       "        text-align: right;\n",
       "    }\n",
       "</style>\n",
       "<table border=\"1\" class=\"dataframe\">\n",
       "  <thead>\n",
       "    <tr style=\"text-align: right;\">\n",
       "      <th></th>\n",
       "      <th>principal component 1</th>\n",
       "      <th>principal component 2</th>\n",
       "      <th>principal component 3</th>\n",
       "      <th>PAD</th>\n",
       "    </tr>\n",
       "  </thead>\n",
       "  <tbody>\n",
       "    <tr>\n",
       "      <th>6075</th>\n",
       "      <td>1.539349</td>\n",
       "      <td>-1.668131</td>\n",
       "      <td>0.164994</td>\n",
       "      <td>0</td>\n",
       "    </tr>\n",
       "    <tr>\n",
       "      <th>6076</th>\n",
       "      <td>-0.456248</td>\n",
       "      <td>-0.074263</td>\n",
       "      <td>-0.086014</td>\n",
       "      <td>0</td>\n",
       "    </tr>\n",
       "    <tr>\n",
       "      <th>6077</th>\n",
       "      <td>-0.983221</td>\n",
       "      <td>0.356234</td>\n",
       "      <td>-0.017030</td>\n",
       "      <td>0</td>\n",
       "    </tr>\n",
       "    <tr>\n",
       "      <th>6078</th>\n",
       "      <td>0.318339</td>\n",
       "      <td>-0.723931</td>\n",
       "      <td>0.099019</td>\n",
       "      <td>0</td>\n",
       "    </tr>\n",
       "    <tr>\n",
       "      <th>6079</th>\n",
       "      <td>0.766606</td>\n",
       "      <td>-0.137038</td>\n",
       "      <td>-0.089841</td>\n",
       "      <td>0</td>\n",
       "    </tr>\n",
       "  </tbody>\n",
       "</table>\n",
       "</div>"
      ],
      "text/plain": [
       "      principal component 1  principal component 2  principal component 3  PAD\n",
       "6075               1.539349              -1.668131               0.164994    0\n",
       "6076              -0.456248              -0.074263              -0.086014    0\n",
       "6077              -0.983221               0.356234              -0.017030    0\n",
       "6078               0.318339              -0.723931               0.099019    0\n",
       "6079               0.766606              -0.137038              -0.089841    0"
      ]
     },
     "execution_count": 81,
     "metadata": {},
     "output_type": "execute_result"
    }
   ],
   "source": [
    "y_df = pd.DataFrame(y)\n",
    "y_df.columns = ['PAD']\n",
    "finalDf = pd.concat([principalDf, y_df], axis = 1)\n",
    "finalDf.tail()"
   ]
  },
  {
   "cell_type": "code",
   "execution_count": 82,
   "metadata": {},
   "outputs": [
    {
     "data": {
      "image/png": "[encoded data removed]",
      "text/plain": [
       "<Figure size 576x576 with 1 Axes>"
      ]
     },
     "metadata": {
      "needs_background": "light"
     },
     "output_type": "display_data"
    }
   ],
   "source": [
    "from mpl_toolkits.mplot3d import Axes3D\n",
    "\n",
    "fig = plt.figure(figsize=(8, 8))\n",
    "ax = fig.add_subplot(111, projection='3d')  # Set the projection to '3d'\n",
    "\n",
    "ax.set_xlabel('Principal Component 1', fontsize = 15)\n",
    "ax.set_ylabel('Principal Component 3', fontsize = 15)\n",
    "ax.set_zlabel('Principal Component 2', fontsize = 15)\n",
    "ax.set_title('3 component PCA', fontsize = 20)\n",
    "\n",
    "targets = [1, 0]\n",
    "colors = ['r', 'b']\n",
    "for target, color in zip(targets,colors):\n",
    "    indicesToKeep = finalDf['PAD'] == target\n",
    "    ax.scatter(finalDf.loc[indicesToKeep, 'principal component 1']\n",
    "               , finalDf.loc[indicesToKeep, 'principal component 3']\n",
    "               , finalDf.loc[indicesToKeep, 'principal component 2']\n",
    "               , c = color\n",
    "               , s = 15)\n",
    "    \n",
    "ax.legend(['PAD', 'no PAD'])\n",
    "ax.grid()"
   ]
  },
  {
   "cell_type": "markdown",
   "metadata": {},
   "source": [
    "# SVM Model"
   ]
  },
  {
   "cell_type": "code",
   "execution_count": 54,
   "metadata": {
    "code_folding": []
   },
   "outputs": [
    {
     "name": "stdout",
     "output_type": "stream",
     "text": [
      "FINISH:0.001\n",
      "FINISH:0.001623776739188721\n",
      "FINISH:0.0026366508987303583\n",
      "FINISH:0.004281332398719396\n",
      "FINISH:0.0069519279617756054\n",
      "FINISH:0.011288378916846888\n",
      "FINISH:0.018329807108324356\n",
      "FINISH:0.029763514416313176\n",
      "FINISH:0.04832930238571752\n",
      "FINISH:0.07847599703514611\n",
      "FINISH:0.12742749857031335\n",
      "FINISH:0.20691380811147903\n",
      "FINISH:0.3359818286283781\n",
      "FINISH:0.5455594781168515\n",
      "FINISH:0.8858667904100823\n",
      "FINISH:1.438449888287663\n",
      "FINISH:2.3357214690901213\n",
      "FINISH:3.792690190732246\n",
      "FINISH:6.158482110660261\n",
      "FINISH:10.0\n",
      "The best C for SVM is 0.001\n"
     ]
    }
   ],
   "source": [
    "# Code for SVM algorithm\n",
    "\n",
    "C_grid = np.logspace(-3, 1, 20)\n",
    "\n",
    "Pe_val_svm = []\n",
    "\n",
    "for i in C_grid:\n",
    "    \n",
    "    SVM_clf = svm.SVC(C=i, kernel='linear')\n",
    "    SVM_clf.fit(X_train, y_train)\n",
    "    Pe_val_svm.append(1-SVM_clf.score(X_valid, y_valid))\n",
    "    print('FINISH:{i}'.format(i=i))\n",
    "    \n",
    "opt_C = C_grid[np.argmin(Pe_val_svm)]\n",
    "print('The best C for SVM is {C}'.format(C=opt_C))"
   ]
  },
  {
   "cell_type": "code",
   "execution_count": 55,
   "metadata": {},
   "outputs": [
    {
     "name": "stdout",
     "output_type": "stream",
     "text": [
      "The test error for SVM is 0.22368421052631582\n"
     ]
    }
   ],
   "source": [
    "SVM_clf = svm.SVC(C=opt_C, kernel='linear')\n",
    "SVM_clf.fit(np.concatenate((X_train, X_valid), axis=0), np.concatenate((y_train, y_valid), axis=0))\n",
    "Pe_svm = 1-SVM_clf.score(X_test, y_test)\n",
    "print('The test error for SVM is {Pe}'.format(Pe=Pe_svm))"
   ]
  },
  {
   "cell_type": "code",
   "execution_count": 56,
   "metadata": {},
   "outputs": [
    {
     "data": {
      "text/plain": [
       "array([[ 5.44007231e-06,  3.05688386e-06,  3.94796500e-06,\n",
       "         5.79153619e-06,  8.74428787e-06,  2.38335307e-06,\n",
       "        -1.72673080e-05,  2.72560524e-07]])"
      ]
     },
     "execution_count": 56,
     "metadata": {},
     "output_type": "execute_result"
    }
   ],
   "source": [
    "SVM_clf.coef_"
   ]
  },
  {
   "cell_type": "code",
   "execution_count": 20,
   "metadata": {},
   "outputs": [
    {
     "name": "stdout",
     "output_type": "stream",
     "text": [
      "The test error for RBF is 0.22286184210526316\n",
      "Time cost for RBF: 0:00:01.289947\n"
     ]
    }
   ],
   "source": [
    "SVM = svm.SVC(kernel='rbf')\n",
    "\n",
    "start = datetime.now()\n",
    "SVM.fit(np.concatenate((X_train, X_valid), axis=0), np.concatenate((y_train, y_valid), axis=0))\n",
    "end = datetime.now()\n",
    "\n",
    "Pe_rbf = 1-SVM.score(X_test, y_test)\n",
    "print('The test error for RBF is {Pe}'.format(Pe=Pe_rbf))\n",
    "\n",
    "t_svm = end - start\n",
    "print(f\"Time cost for RBF: {t_svm}\")"
   ]
  },
  {
   "cell_type": "code",
   "execution_count": 16,
   "metadata": {},
   "outputs": [
    {
     "ename": "SyntaxError",
     "evalue": "invalid syntax (1546920945.py, line 8)",
     "output_type": "error",
     "traceback": [
      "\u001b[0;36m  File \u001b[0;32m\"/tmp/ipykernel_111/1546920945.py\"\u001b[0;36m, line \u001b[0;32m8\u001b[0m\n\u001b[0;31m    explainer = shap.KernelExplainer(SVM.predict_proba, shap.sample(X, 100))\u001b[0m\n\u001b[0m            ^\u001b[0m\n\u001b[0;31mSyntaxError\u001b[0m\u001b[0;31m:\u001b[0m invalid syntax\n"
     ]
    }
   ],
   "source": [
    "import shap\n",
    "from sklearn.svm import SVC\n",
    "from sklearn.datasets import load_iris\n",
    "import numpy as np\n",
    "X = np.concatenate((X_train, X_valid), axis=0\n",
    "# Create a SHAP explainer and calculate SHAP values\n",
    "                   \n",
    "explainer = shap.KernelExplainer(SVM.predict_proba, shap.sample(X, 100))\n",
    "\n",
    "shap_values = explainer.shap_values(X)\n",
    "\n",
    "# Summarize the SHAP values for the first class\n",
    "shap.summary_plot(shap_values[0], X)\n"
   ]
  },
  {
   "cell_type": "code",
   "execution_count": 58,
   "metadata": {},
   "outputs": [
    {
     "name": "stdout",
     "output_type": "stream",
     "text": [
      "Confusion Matrix:\n",
      "[[944   0]\n",
      " [271   1]]\n",
      "0.007326007326007326\n"
     ]
    }
   ],
   "source": [
    "y_pred_svm = SVM.predict(X_test)\n",
    "cm_svm = confusion_matrix(y_test, y_pred_svm) \n",
    "print(\"Confusion Matrix:\") \n",
    "print(cm_svm)\n",
    "f1_svm = f1_score(y_test, y_pred_svm)\n",
    "print(f1_svm)"
   ]
  },
  {
   "cell_type": "code",
   "execution_count": 59,
   "metadata": {},
   "outputs": [
    {
     "data": {
      "image/png": "[encoded data removed]",
      "text/plain": [
       "<Figure size 432x288 with 2 Axes>"
      ]
     },
     "metadata": {
      "needs_background": "light"
     },
     "output_type": "display_data"
    }
   ],
   "source": [
    "color_palette = \"coolwarm\"\n",
    "sns.heatmap(cm_svm, annot=True, fmt='g', cmap=color_palette)\n",
    "plt.xlabel('Predicted labels', fontsize=10, fontweight='bold')\n",
    "plt.ylabel('True labels',  fontsize=10, fontweight='bold')\n",
    "plt.title('Confusion Matrix for SVM', fontsize=14, fontweight='bold')\n",
    "plt.show()"
   ]
  },
  {
   "cell_type": "markdown",
   "metadata": {},
   "source": [
    "# LR Model"
   ]
  },
  {
   "cell_type": "code",
   "execution_count": 60,
   "metadata": {},
   "outputs": [
    {
     "name": "stdout",
     "output_type": "stream",
     "text": [
      "The best C for Logistic Regression is 0.19306977288832497\n"
     ]
    }
   ],
   "source": [
    "# Code for Logistic Regression algorithm\n",
    "\n",
    "C_grid = np.logspace(-3, 1, 50)\n",
    "\n",
    "Pe_val_lr = []\n",
    "\n",
    "for i in C_grid:\n",
    "    \n",
    "    LR_clf = LogisticRegression(C=i, solver='liblinear', random_state=0)\n",
    "    LR_clf.fit(X_train, y_train)\n",
    "    Pe_val_lr.append(1-LR_clf.score(X_valid, y_valid))\n",
    "#     print('FINISH:{i}'.format(i=i))\n",
    "    \n",
    "opt_C = C_grid[np.argmin(Pe_val_lr)]\n",
    "print('The best C for Logistic Regression is {C}'.format(C=opt_C))\n",
    "# print(Pe_val_lr)"
   ]
  },
  {
   "cell_type": "code",
   "execution_count": 61,
   "metadata": {},
   "outputs": [
    {
     "name": "stdout",
     "output_type": "stream",
     "text": [
      "The test error for Logistic Regression is 0.22779605263157898\n",
      "Time cost for Logistic Regression: 0:00:00.012103\n"
     ]
    }
   ],
   "source": [
    "LR_clf = LogisticRegression(C=opt_C, solver='liblinear', random_state=0)\n",
    "\n",
    "start = datetime.now()\n",
    "LR_clf.fit(np.concatenate((X_train, X_valid), axis=0), np.concatenate((y_train, y_valid), axis=0))\n",
    "end = datetime.now()\n",
    "\n",
    "Pe_lr = 1-LR_clf.score(X_test, y_test)\n",
    "print('The test error for Logistic Regression is {Pe}'.format(Pe=Pe_lr))\n",
    "t_lr = end - start\n",
    "print(f\"Time cost for Logistic Regression: {t_lr}\")"
   ]
  },
  {
   "cell_type": "code",
   "execution_count": 62,
   "metadata": {},
   "outputs": [
    {
     "data": {
      "text/plain": [
       "array([[ 0.37329619,  0.35286169,  0.2402759 , -0.07968134,  0.23882455,\n",
       "         0.35845428,  0.17312045, -0.04892378]])"
      ]
     },
     "execution_count": 62,
     "metadata": {},
     "output_type": "execute_result"
    }
   ],
   "source": [
    "LR_clf.coef_"
   ]
  },
  {
   "cell_type": "code",
   "execution_count": 63,
   "metadata": {},
   "outputs": [
    {
     "name": "stdout",
     "output_type": "stream",
     "text": [
      "Confusion Matrix:\n",
      "[[926  18]\n",
      " [259  13]]\n",
      "0.0858085808580858\n"
     ]
    }
   ],
   "source": [
    "y_pred_lr = LR_clf.predict(X_test)\n",
    "cm_lr = confusion_matrix(y_test, y_pred_lr) \n",
    "print(\"Confusion Matrix:\") \n",
    "print(cm_lr)\n",
    "f1_lr = f1_score(y_test, y_pred_lr)\n",
    "print(f1_lr)"
   ]
  },
  {
   "cell_type": "code",
   "execution_count": 64,
   "metadata": {},
   "outputs": [
    {
     "data": {
      "image/png": "[encoded data removed]",
      "text/plain": [
       "<Figure size 432x288 with 2 Axes>"
      ]
     },
     "metadata": {
      "needs_background": "light"
     },
     "output_type": "display_data"
    }
   ],
   "source": [
    "color_palette = \"coolwarm\"\n",
    "sns.heatmap(cm_lr, annot=True, fmt='g', cmap=color_palette)\n",
    "plt.xlabel('Predicted labels', fontsize=10, fontweight='bold')\n",
    "plt.ylabel('True labels',  fontsize=10, fontweight='bold')\n",
    "plt.title('Confusion Matrix for LR', fontsize=14, fontweight='bold')\n",
    "plt.show()"
   ]
  },
  {
   "cell_type": "markdown",
   "metadata": {},
   "source": [
    "# RF Model"
   ]
  },
  {
   "cell_type": "code",
   "execution_count": 9,
   "metadata": {},
   "outputs": [
    {
     "name": "stdout",
     "output_type": "stream",
     "text": [
      "The test error for Random Forest is 0.22286184210526316\n",
      "Time cost for Logistic Regression: 0:00:02.094598\n"
     ]
    }
   ],
   "source": [
    "# Code for Random Forest algorithm\n",
    "RF_clf = RandomForestClassifier(n_estimators=250,random_state=42)\n",
    "\n",
    "start = datetime.now()\n",
    "RF_clf.fit(np.concatenate((X_train, X_valid), axis=0), np.concatenate((y_train, y_valid), axis=0))\n",
    "end = datetime.now()\n",
    "\n",
    "Pe_rf = 1-RF_clf.score(X_test, y_test)\n",
    "print('The test error for Random Forest is {Pe}'.format(Pe=Pe_rf))\n",
    "t_rf = end - start\n",
    "print(f\"Time cost for Logistic Regression: {t_rf}\")"
   ]
  },
  {
   "cell_type": "code",
   "execution_count": 11,
   "metadata": {},
   "outputs": [
    {
     "name": "stdout",
     "output_type": "stream",
     "text": [
      "[0.02019306 0.01912377 0.017727   0.17908554 0.19485527 0.20046014\n",
      " 0.18875274 0.17980248]\n"
     ]
    }
   ],
   "source": [
    "# Feature importances\n",
    "importances = RF_clf.feature_importances_\n",
    "print(importances)"
   ]
  },
  {
   "cell_type": "code",
   "execution_count": 66,
   "metadata": {},
   "outputs": [
    {
     "name": "stdout",
     "output_type": "stream",
     "text": [
      "Confusion Matrix:\n",
      "[[924  20]\n",
      " [251  21]]\n",
      "77.71381578947368\n"
     ]
    }
   ],
   "source": [
    "y_pred_rf = RF_clf.predict(X_test)\n",
    "cm_rf = confusion_matrix(y_test, y_pred_rf) \n",
    "print(\"Confusion Matrix:\") \n",
    "print(cm_rf)\n",
    "accuracy_rf = (cm_rf[0][0]+cm_rf[1][1])/(cm_rf[0][1] + cm_rf[1][0] +cm_rf[0][0] +cm_rf[1][1]) \n",
    "print(accuracy_rf*100) "
   ]
  },
  {
   "cell_type": "code",
   "execution_count": 67,
   "metadata": {},
   "outputs": [
    {
     "data": {
      "image/png": "[encoded data removed]",
      "text/plain": [
       "<Figure size 432x288 with 2 Axes>"
      ]
     },
     "metadata": {
      "needs_background": "light"
     },
     "output_type": "display_data"
    }
   ],
   "source": [
    "color_palette = \"coolwarm\"\n",
    "sns.heatmap(cm_rf, annot=True, fmt='g', cmap=color_palette)\n",
    "plt.xlabel('Predicted labels', fontsize=10, fontweight='bold')\n",
    "plt.ylabel('True labels',  fontsize=10, fontweight='bold')\n",
    "plt.title('Confusion Matrix for LR', fontsize=14, fontweight='bold')\n",
    "plt.show()"
   ]
  },
  {
   "cell_type": "markdown",
   "metadata": {},
   "source": [
    "# Deep Learning"
   ]
  },
  {
   "cell_type": "code",
   "execution_count": 6,
   "metadata": {},
   "outputs": [],
   "source": [
    "import keras \n",
    "from keras.models import Sequential \n",
    "from keras.layers import Dense "
   ]
  },
  {
   "cell_type": "code",
   "execution_count": 134,
   "metadata": {
    "code_folding": []
   },
   "outputs": [],
   "source": [
    "classifier = Sequential() \n",
    "classifier.add(Dense(activation = \"relu\", input_dim = 8, units = 14, kernel_initializer = \"uniform\")) \n",
    "classifier.add(Dense(activation = \"relu\", units = 8, kernel_initializer = \"uniform\")) \n",
    "classifier.add(Dense(activation = \"relu\", units = 6, kernel_initializer = \"uniform\")) \n",
    "classifier.add(Dense(activation = \"sigmoid\", units = 1, kernel_initializer = \"uniform\")) \n",
    "classifier.compile(optimizer = 'adam' , loss = 'binary_crossentropy',metrics = ['accuracy'] ) "
   ]
  },
  {
   "cell_type": "code",
   "execution_count": 135,
   "metadata": {},
   "outputs": [
    {
     "name": "stdout",
     "output_type": "stream",
     "text": [
      "Epoch 1/100\n",
      "608/608 [==============================] - 1s 1ms/step - loss: 0.5359 - accuracy: 0.7961\n",
      "Epoch 2/100\n",
      "608/608 [==============================] - 1s 1ms/step - loss: 0.4785 - accuracy: 0.7973\n",
      "Epoch 3/100\n",
      "608/608 [==============================] - 1s 1ms/step - loss: 0.4737 - accuracy: 0.7973\n",
      "Epoch 4/100\n",
      "608/608 [==============================] - 1s 1ms/step - loss: 0.4721 - accuracy: 0.7973\n",
      "Epoch 5/100\n",
      "608/608 [==============================] - 1s 1ms/step - loss: 0.4706 - accuracy: 0.7973\n",
      "Epoch 6/100\n",
      "608/608 [==============================] - 1s 1ms/step - loss: 0.4704 - accuracy: 0.7973\n",
      "Epoch 7/100\n",
      "608/608 [==============================] - 1s 1ms/step - loss: 0.4692 - accuracy: 0.7973\n",
      "Epoch 8/100\n",
      "608/608 [==============================] - 1s 1ms/step - loss: 0.4693 - accuracy: 0.7973\n",
      "Epoch 9/100\n",
      "608/608 [==============================] - 1s 1ms/step - loss: 0.4691 - accuracy: 0.7973\n",
      "Epoch 10/100\n",
      "608/608 [==============================] - 1s 1ms/step - loss: 0.4690 - accuracy: 0.7973\n",
      "Epoch 11/100\n",
      "608/608 [==============================] - 1s 1ms/step - loss: 0.4690 - accuracy: 0.7973\n",
      "Epoch 12/100\n",
      "608/608 [==============================] - 1s 1ms/step - loss: 0.4683 - accuracy: 0.7973\n",
      "Epoch 13/100\n",
      "608/608 [==============================] - 1s 1ms/step - loss: 0.4681 - accuracy: 0.7973\n",
      "Epoch 14/100\n",
      "608/608 [==============================] - 1s 1ms/step - loss: 0.4687 - accuracy: 0.7973\n",
      "Epoch 15/100\n",
      "608/608 [==============================] - 1s 1ms/step - loss: 0.4677 - accuracy: 0.7973\n",
      "Epoch 16/100\n",
      "608/608 [==============================] - 1s 1ms/step - loss: 0.4675 - accuracy: 0.7973\n",
      "Epoch 17/100\n",
      "608/608 [==============================] - 1s 1ms/step - loss: 0.4674 - accuracy: 0.7973\n",
      "Epoch 18/100\n",
      "608/608 [==============================] - 1s 1ms/step - loss: 0.4676 - accuracy: 0.7973\n",
      "Epoch 19/100\n",
      "608/608 [==============================] - 1s 1ms/step - loss: 0.4672 - accuracy: 0.7973\n",
      "Epoch 20/100\n",
      "608/608 [==============================] - 1s 1ms/step - loss: 0.4669 - accuracy: 0.7973\n",
      "Epoch 21/100\n",
      "608/608 [==============================] - 1s 1ms/step - loss: 0.4668 - accuracy: 0.7973\n",
      "Epoch 22/100\n",
      "608/608 [==============================] - 1s 1ms/step - loss: 0.4665 - accuracy: 0.7973\n",
      "Epoch 23/100\n",
      "608/608 [==============================] - 1s 1ms/step - loss: 0.4664 - accuracy: 0.7973\n",
      "Epoch 24/100\n",
      "608/608 [==============================] - 1s 1ms/step - loss: 0.4662 - accuracy: 0.7973\n",
      "Epoch 25/100\n",
      "608/608 [==============================] - 1s 1ms/step - loss: 0.4660 - accuracy: 0.7973\n",
      "Epoch 26/100\n",
      "608/608 [==============================] - 1s 1ms/step - loss: 0.4662 - accuracy: 0.7973\n",
      "Epoch 27/100\n",
      "608/608 [==============================] - 1s 1ms/step - loss: 0.4655 - accuracy: 0.7973\n",
      "Epoch 28/100\n",
      "608/608 [==============================] - 1s 1ms/step - loss: 0.4657 - accuracy: 0.7973\n",
      "Epoch 29/100\n",
      "608/608 [==============================] - 1s 1ms/step - loss: 0.4655 - accuracy: 0.7973\n",
      "Epoch 30/100\n",
      "608/608 [==============================] - 1s 1ms/step - loss: 0.4656 - accuracy: 0.7973\n",
      "Epoch 31/100\n",
      "608/608 [==============================] - 1s 1ms/step - loss: 0.4652 - accuracy: 0.7973\n",
      "Epoch 32/100\n",
      "608/608 [==============================] - 1s 1ms/step - loss: 0.4657 - accuracy: 0.7973\n",
      "Epoch 33/100\n",
      "608/608 [==============================] - 1s 1ms/step - loss: 0.4653 - accuracy: 0.7973\n",
      "Epoch 34/100\n",
      "608/608 [==============================] - 1s 1ms/step - loss: 0.4649 - accuracy: 0.7973\n",
      "Epoch 35/100\n",
      "608/608 [==============================] - 1s 1ms/step - loss: 0.4647 - accuracy: 0.7973\n",
      "Epoch 36/100\n",
      "608/608 [==============================] - 1s 1ms/step - loss: 0.4647 - accuracy: 0.7973\n",
      "Epoch 37/100\n",
      "608/608 [==============================] - 1s 1ms/step - loss: 0.4646 - accuracy: 0.7973\n",
      "Epoch 38/100\n",
      "608/608 [==============================] - 1s 1ms/step - loss: 0.4649 - accuracy: 0.7973\n",
      "Epoch 39/100\n",
      "608/608 [==============================] - 1s 1ms/step - loss: 0.4646 - accuracy: 0.7973\n",
      "Epoch 40/100\n",
      "608/608 [==============================] - 1s 1ms/step - loss: 0.4633 - accuracy: 0.7973\n",
      "Epoch 41/100\n",
      "608/608 [==============================] - 1s 1ms/step - loss: 0.4644 - accuracy: 0.7973\n",
      "Epoch 42/100\n",
      "608/608 [==============================] - 1s 1ms/step - loss: 0.4643 - accuracy: 0.7973\n",
      "Epoch 43/100\n",
      "608/608 [==============================] - 1s 1ms/step - loss: 0.4646 - accuracy: 0.7973\n",
      "Epoch 44/100\n",
      "608/608 [==============================] - 1s 1ms/step - loss: 0.4640 - accuracy: 0.7973\n",
      "Epoch 45/100\n",
      "608/608 [==============================] - 1s 1ms/step - loss: 0.4640 - accuracy: 0.7971\n",
      "Epoch 46/100\n",
      "608/608 [==============================] - 1s 1ms/step - loss: 0.4641 - accuracy: 0.7977\n",
      "Epoch 47/100\n",
      "608/608 [==============================] - 1s 1ms/step - loss: 0.4640 - accuracy: 0.7973\n",
      "Epoch 48/100\n",
      "608/608 [==============================] - 1s 1ms/step - loss: 0.4639 - accuracy: 0.7971\n",
      "Epoch 49/100\n",
      "608/608 [==============================] - 1s 1ms/step - loss: 0.4640 - accuracy: 0.7979\n",
      "Epoch 50/100\n",
      "608/608 [==============================] - 1s 1ms/step - loss: 0.4635 - accuracy: 0.7969\n",
      "Epoch 51/100\n",
      "608/608 [==============================] - 1s 2ms/step - loss: 0.4638 - accuracy: 0.7969\n",
      "Epoch 52/100\n",
      "608/608 [==============================] - 1s 2ms/step - loss: 0.4635 - accuracy: 0.7973\n",
      "Epoch 53/100\n",
      "608/608 [==============================] - 1s 1ms/step - loss: 0.4623 - accuracy: 0.7985\n",
      "Epoch 54/100\n",
      "608/608 [==============================] - 1s 1ms/step - loss: 0.4630 - accuracy: 0.7973\n",
      "Epoch 55/100\n",
      "608/608 [==============================] - 1s 1ms/step - loss: 0.4636 - accuracy: 0.7987\n",
      "Epoch 56/100\n",
      "608/608 [==============================] - 1s 1ms/step - loss: 0.4628 - accuracy: 0.7975\n",
      "Epoch 57/100\n",
      "608/608 [==============================] - 1s 1ms/step - loss: 0.4627 - accuracy: 0.7977\n",
      "Epoch 58/100\n",
      "608/608 [==============================] - 1s 1ms/step - loss: 0.4628 - accuracy: 0.7977\n",
      "Epoch 59/100\n",
      "608/608 [==============================] - 1s 1ms/step - loss: 0.4638 - accuracy: 0.7969\n",
      "Epoch 60/100\n",
      "608/608 [==============================] - 1s 1ms/step - loss: 0.4634 - accuracy: 0.7977\n",
      "Epoch 61/100\n",
      "608/608 [==============================] - 1s 1ms/step - loss: 0.4626 - accuracy: 0.7979\n",
      "Epoch 62/100\n",
      "608/608 [==============================] - 1s 1ms/step - loss: 0.4627 - accuracy: 0.7977\n",
      "Epoch 63/100\n",
      "608/608 [==============================] - 1s 1ms/step - loss: 0.4628 - accuracy: 0.7973\n",
      "Epoch 64/100\n",
      "608/608 [==============================] - 1s 1ms/step - loss: 0.4628 - accuracy: 0.7965\n",
      "Epoch 65/100\n",
      "608/608 [==============================] - 1s 1ms/step - loss: 0.4629 - accuracy: 0.7973\n",
      "Epoch 66/100\n",
      "608/608 [==============================] - 1s 1ms/step - loss: 0.4629 - accuracy: 0.7975\n",
      "Epoch 67/100\n",
      "608/608 [==============================] - 1s 1ms/step - loss: 0.4628 - accuracy: 0.7975\n",
      "Epoch 68/100\n",
      "608/608 [==============================] - 1s 1ms/step - loss: 0.4628 - accuracy: 0.7989\n",
      "Epoch 69/100\n",
      "608/608 [==============================] - 1s 1ms/step - loss: 0.4624 - accuracy: 0.7985\n",
      "Epoch 70/100\n",
      "608/608 [==============================] - 1s 1ms/step - loss: 0.4625 - accuracy: 0.7969\n",
      "Epoch 71/100\n",
      "608/608 [==============================] - 1s 1ms/step - loss: 0.4620 - accuracy: 0.7987\n",
      "Epoch 72/100\n",
      "608/608 [==============================] - 1s 1ms/step - loss: 0.4633 - accuracy: 0.7981\n",
      "Epoch 73/100\n",
      "608/608 [==============================] - 1s 1ms/step - loss: 0.4627 - accuracy: 0.7987\n",
      "Epoch 74/100\n",
      "608/608 [==============================] - 1s 1ms/step - loss: 0.4621 - accuracy: 0.7981\n",
      "Epoch 75/100\n",
      "608/608 [==============================] - 1s 1ms/step - loss: 0.4629 - accuracy: 0.7973\n",
      "Epoch 76/100\n",
      "608/608 [==============================] - 1s 1ms/step - loss: 0.4626 - accuracy: 0.7985\n",
      "Epoch 77/100\n",
      "608/608 [==============================] - 1s 1ms/step - loss: 0.4622 - accuracy: 0.7989\n",
      "Epoch 78/100\n",
      "608/608 [==============================] - 1s 1ms/step - loss: 0.4626 - accuracy: 0.7961\n",
      "Epoch 79/100\n",
      "608/608 [==============================] - 1s 1ms/step - loss: 0.4621 - accuracy: 0.8000\n",
      "Epoch 80/100\n",
      "608/608 [==============================] - 1s 1ms/step - loss: 0.4625 - accuracy: 0.7981\n",
      "Epoch 81/100\n",
      "608/608 [==============================] - 1s 1ms/step - loss: 0.4625 - accuracy: 0.7981\n",
      "Epoch 82/100\n",
      "608/608 [==============================] - 1s 1ms/step - loss: 0.4621 - accuracy: 0.7981\n",
      "Epoch 83/100\n",
      "608/608 [==============================] - 1s 1ms/step - loss: 0.4626 - accuracy: 0.7979\n",
      "Epoch 84/100\n",
      "608/608 [==============================] - 1s 1ms/step - loss: 0.4623 - accuracy: 0.7971\n",
      "Epoch 85/100\n",
      "608/608 [==============================] - 1s 1ms/step - loss: 0.4624 - accuracy: 0.7995\n",
      "Epoch 86/100\n",
      "608/608 [==============================] - 1s 1ms/step - loss: 0.4620 - accuracy: 0.7975\n",
      "Epoch 87/100\n",
      "608/608 [==============================] - 1s 1ms/step - loss: 0.4625 - accuracy: 0.7981\n",
      "Epoch 88/100\n",
      "608/608 [==============================] - 1s 1ms/step - loss: 0.4622 - accuracy: 0.7989\n",
      "Epoch 89/100\n",
      "608/608 [==============================] - 1s 1ms/step - loss: 0.4624 - accuracy: 0.7977\n",
      "Epoch 90/100\n",
      "608/608 [==============================] - 1s 1ms/step - loss: 0.4621 - accuracy: 0.7981\n",
      "Epoch 91/100\n",
      "608/608 [==============================] - 1s 1ms/step - loss: 0.4613 - accuracy: 0.7993\n",
      "Epoch 92/100\n",
      "608/608 [==============================] - 1s 1ms/step - loss: 0.4624 - accuracy: 0.7977\n",
      "Epoch 93/100\n",
      "608/608 [==============================] - 1s 1ms/step - loss: 0.4620 - accuracy: 0.7981\n",
      "Epoch 94/100\n",
      "608/608 [==============================] - 1s 1ms/step - loss: 0.4624 - accuracy: 0.8004\n",
      "Epoch 95/100\n",
      "608/608 [==============================] - 1s 1ms/step - loss: 0.4620 - accuracy: 0.7985\n",
      "Epoch 96/100\n",
      "608/608 [==============================] - 1s 1ms/step - loss: 0.4617 - accuracy: 0.7987\n",
      "Epoch 97/100\n",
      "608/608 [==============================] - 1s 1ms/step - loss: 0.4619 - accuracy: 0.7991\n",
      "Epoch 98/100\n",
      "608/608 [==============================] - 1s 1ms/step - loss: 0.4616 - accuracy: 0.7987\n",
      "Epoch 99/100\n",
      "608/608 [==============================] - 1s 1ms/step - loss: 0.4619 - accuracy: 0.7991\n",
      "Epoch 100/100\n",
      "608/608 [==============================] - 1s 1ms/step - loss: 0.4619 - accuracy: 0.8002\n"
     ]
    }
   ],
   "source": [
    "start = datetime.now()\n",
    "classifier.fit(np.concatenate((X_train, X_valid), axis=0), np.concatenate((y_train, y_valid), axis=0), batch_size = 8,epochs = 100)\n",
    "end = datetime.now()\n",
    "t_dl = end - start"
   ]
  },
  {
   "cell_type": "code",
   "execution_count": 133,
   "metadata": {},
   "outputs": [
    {
     "name": "stdout",
     "output_type": "stream",
     "text": [
      "78.20723684210526\n",
      "0.0636042402826855\n"
     ]
    }
   ],
   "source": [
    "y_pred_dl = classifier.predict(X_test)\n",
    "y_pred_dl = (y_pred_dl > 0.5)\n",
    "cm = confusion_matrix(y_test,y_pred_dl) \n",
    "accuracy = (cm[0][0]+cm[1][1])/(cm[0][1] + cm[1][0] +cm[0][0] +cm[1][1]) \n",
    "print(accuracy*100) \n",
    "cm\n",
    "f1_dl = f1_score(y_test, y_pred_dl)\n",
    "print(f1_dl)"
   ]
  },
  {
   "cell_type": "markdown",
   "metadata": {},
   "source": [
    "# Visualization"
   ]
  },
  {
   "cell_type": "code",
   "execution_count": null,
   "metadata": {},
   "outputs": [],
   "source": []
  },
  {
   "cell_type": "code",
   "execution_count": 78,
   "metadata": {},
   "outputs": [
    {
     "data": {
      "image/png": "[encoded data removed]",
      "text/plain": [
       "<Figure size 576x432 with 1 Axes>"
      ]
     },
     "metadata": {
      "needs_background": "light"
     },
     "output_type": "display_data"
    }
   ],
   "source": [
    "SVM_score = 1-Pe_rbf\n",
    "LR_score = 1-Pe_lr\n",
    "RF_score = 1-Pe_rf\n",
    "DL_score = accuracy\n",
    "\n",
    "# Names of the algorithms\n",
    "algorithms = ['SVM', 'Logistic Regression', 'Random Forest', 'Deep Learning']\n",
    "\n",
    "# Corresponding test scores\n",
    "scores = [SVM_score, LR_score, RF_score, DL_score]  # Replace these with your actual test scores\n",
    "\n",
    "plt.figure(figsize=(8, 6))\n",
    "\n",
    "# Create a bar chart\n",
    "bars = plt.bar(algorithms, scores, color=[(209.0/255,219.0/255,189.0/255), (145.0/255,170.0/255,157.0/255), (62.0/255,96.0/255,111.0/255), (25.0/255,52.0/255,65.0/255)])\n",
    "\n",
    "# Add title and labels\n",
    "plt.title('Accuracy Comparison of Algorithms', fontsize=18, fontweight='bold')\n",
    "plt.xlabel('Algorithms', fontsize=14, fontweight='bold')\n",
    "plt.ylabel('Test Scores', fontsize=14, fontweight='bold')\n",
    "plt.ylim(0.75, 0.8)\n",
    "\n",
    "for bar in bars:\n",
    "    yval = bar.get_height()\n",
    "    plt.text(bar.get_x() + bar.get_width()/2, yval, round(yval, 4), ha='center', va='bottom')\n",
    "\n",
    "plt.savefig('my_plot.png', dpi=600)\n",
    "# Display the plot\n",
    "plt.show()"
   ]
  },
  {
   "cell_type": "code",
   "execution_count": 137,
   "metadata": {},
   "outputs": [
    {
     "data": {
      "image/png": "[encoded data removed]",
      "text/plain": [
       "<Figure size 576x432 with 1 Axes>"
      ]
     },
     "metadata": {
      "needs_background": "light"
     },
     "output_type": "display_data"
    }
   ],
   "source": [
    "# Names of the algorithms\n",
    "algorithms = ['SVM', 'Logistic Regression', 'Random Forest', 'Deep Learning']\n",
    "\n",
    "# Corresponding test scores\n",
    "cost = [t_svm, t_lr, t_rf, t_dl]  # Replace these with your actual test scores\n",
    "cost_in_seconds = [c.total_seconds() for c in cost]\n",
    "\n",
    "plt.figure(figsize=(8, 6))\n",
    "\n",
    "# Create a bar chart\n",
    "bars = plt.bar(algorithms, cost_in_seconds, color=[(209.0/255,219.0/255,189.0/255), (145.0/255,170.0/255,157.0/255), (62.0/255,96.0/255,111.0/255), (25.0/255,52.0/255,65.0/255)])\n",
    "for bar in bars:\n",
    "    yval = bar.get_height()\n",
    "    plt.text(bar.get_x() + bar.get_width()/2, yval, round(yval, 4), ha='center', va='bottom')\n",
    "\n",
    "# 添加标题和标签\n",
    "\n",
    "plt.yscale('log')\n",
    "\n",
    "# Add title and labels\n",
    "plt.title('Time Cost Comparison of Algorithms', fontsize=18, fontweight='bold')\n",
    "plt.xlabel('Algorithms', fontsize=14, fontweight='bold')\n",
    "plt.ylabel('Time Cost (Log Scale), [s]', fontsize=14, fontweight='bold')\n",
    "\n",
    "\n",
    "plt.savefig('my_plot.png', dpi=600)\n",
    "# Display the plot\n",
    "plt.show()"
   ]
  },
  {
   "cell_type": "code",
   "execution_count": null,
   "metadata": {},
   "outputs": [],
   "source": []
  }
 ],
 "metadata": {
  "kernelspec": {
   "display_name": "Python 3",
   "language": "python",
   "name": "python3"
  },
  "language_info": {
   "codemirror_mode": {
    "name": "ipython",
    "version": 3
   },
   "file_extension": ".py",
   "mimetype": "text/x-python",
   "name": "python",
   "nbconvert_exporter": "python",
   "pygments_lexer": "ipython3",
   "version": "3.7.12"
  },
  "toc": {
   "base_numbering": 1,
   "nav_menu": {},
   "number_sections": true,
   "sideBar": true,
   "skip_h1_title": false,
   "title_cell": "Table of Contents",
   "title_sidebar": "Contents",
   "toc_cell": false,
   "toc_position": {},
   "toc_section_display": true,
   "toc_window_display": false
  }
 },
 "nbformat": 4,
 "nbformat_minor": 2
}
